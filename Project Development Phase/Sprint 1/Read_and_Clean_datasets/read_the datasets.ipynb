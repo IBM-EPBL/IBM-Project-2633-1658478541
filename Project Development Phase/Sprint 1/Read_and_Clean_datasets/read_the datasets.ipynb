{
 "cells": [
  {
   "cell_type": "markdown",
   "id": "3e552d6f",
   "metadata": {},
   "source": [
    "# Import Libraries The libraries can be imported using the import keyword."
   ]
  },
  {
   "cell_type": "code",
   "execution_count": 2,
   "id": "43b9abb7",
   "metadata": {},
   "outputs": [],
   "source": [
    "import pandas as pd\n",
    "import numpy as np\n",
    "import matplotlib.pyplot as plt\n",
    "import matplotlib as mpl"
   ]
  },
  {
   "cell_type": "markdown",
   "id": "da9253a8",
   "metadata": {},
   "source": [
    "# To read the datasets"
   ]
  },
  {
   "cell_type": "code",
   "execution_count": 3,
   "id": "fd77d8a5",
   "metadata": {},
   "outputs": [
    {
     "data": {
      "text/html": [
       "<div>\n",
       "<style scoped>\n",
       "    .dataframe tbody tr th:only-of-type {\n",
       "        vertical-align: middle;\n",
       "    }\n",
       "\n",
       "    .dataframe tbody tr th {\n",
       "        vertical-align: top;\n",
       "    }\n",
       "\n",
       "    .dataframe thead th {\n",
       "        text-align: right;\n",
       "    }\n",
       "</style>\n",
       "<table border=\"1\" class=\"dataframe\">\n",
       "  <thead>\n",
       "    <tr style=\"text-align: right;\">\n",
       "      <th></th>\n",
       "      <th>List_of_Cars</th>\n",
       "      <th>Brands</th>\n",
       "      <th>year_of_mnf</th>\n",
       "      <th>Old_Price</th>\n",
       "      <th>Tillnow_kms_driven</th>\n",
       "      <th>Fuel_types</th>\n",
       "    </tr>\n",
       "  </thead>\n",
       "  <tbody>\n",
       "    <tr>\n",
       "      <th>0</th>\n",
       "      <td>Ford EcoSport Ambiente 1.5L TDCi</td>\n",
       "      <td>Ford</td>\n",
       "      <td>2016</td>\n",
       "      <td>8,30,000</td>\n",
       "      <td>24,530 kms</td>\n",
       "      <td>Diesel</td>\n",
       "    </tr>\n",
       "    <tr>\n",
       "      <th>1</th>\n",
       "      <td>Maruti Suzuki Alto K10 VXi AMT</td>\n",
       "      <td>Maruti</td>\n",
       "      <td>2015</td>\n",
       "      <td>2,50,000</td>\n",
       "      <td>60,000 kms</td>\n",
       "      <td>Petrol</td>\n",
       "    </tr>\n",
       "    <tr>\n",
       "      <th>2</th>\n",
       "      <td>Skoda Fabia Classic 1.2 MPI</td>\n",
       "      <td>Skoda</td>\n",
       "      <td>2010</td>\n",
       "      <td>1,82,000</td>\n",
       "      <td>60,000 kms</td>\n",
       "      <td>Petrol</td>\n",
       "    </tr>\n",
       "    <tr>\n",
       "      <th>3</th>\n",
       "      <td>Maruti Suzuki Stingray VXi</td>\n",
       "      <td>Maruti</td>\n",
       "      <td>2015</td>\n",
       "      <td>3,15,000</td>\n",
       "      <td>30,000 kms</td>\n",
       "      <td>Petrol</td>\n",
       "    </tr>\n",
       "    <tr>\n",
       "      <th>4</th>\n",
       "      <td>Hyundai Elite i20 Magna 1.2</td>\n",
       "      <td>Hyundai</td>\n",
       "      <td>2014</td>\n",
       "      <td>4,15,000</td>\n",
       "      <td>32,000 kms</td>\n",
       "      <td>Petrol</td>\n",
       "    </tr>\n",
       "  </tbody>\n",
       "</table>\n",
       "</div>"
      ],
      "text/plain": [
       "                       List_of_Cars   Brands year_of_mnf Old_Price  \\\n",
       "0  Ford EcoSport Ambiente 1.5L TDCi     Ford        2016  8,30,000   \n",
       "1    Maruti Suzuki Alto K10 VXi AMT   Maruti        2015  2,50,000   \n",
       "2       Skoda Fabia Classic 1.2 MPI    Skoda        2010  1,82,000   \n",
       "3        Maruti Suzuki Stingray VXi   Maruti        2015  3,15,000   \n",
       "4       Hyundai Elite i20 Magna 1.2  Hyundai        2014  4,15,000   \n",
       "\n",
       "  Tillnow_kms_driven Fuel_types  \n",
       "0         24,530 kms     Diesel  \n",
       "1         60,000 kms     Petrol  \n",
       "2         60,000 kms     Petrol  \n",
       "3         30,000 kms     Petrol  \n",
       "4         32,000 kms     Petrol  "
      ]
     },
     "execution_count": 3,
     "metadata": {},
     "output_type": "execute_result"
    }
   ],
   "source": [
    "data = pd.read_csv('DataSet_of_Cars.csv')\n",
    "\n",
    "data.head()"
   ]
  },
  {
   "cell_type": "code",
   "execution_count": 6,
   "id": "b76dc402",
   "metadata": {},
   "outputs": [
    {
     "data": {
      "text/plain": [
       "(884, 6)"
      ]
     },
     "execution_count": 6,
     "metadata": {},
     "output_type": "execute_result"
    }
   ],
   "source": [
    "data.shape"
   ]
  },
  {
   "cell_type": "code",
   "execution_count": 5,
   "id": "e07be48b",
   "metadata": {},
   "outputs": [
    {
     "name": "stdout",
     "output_type": "stream",
     "text": [
      "<class 'pandas.core.frame.DataFrame'>\n",
      "RangeIndex: 884 entries, 0 to 883\n",
      "Data columns (total 6 columns):\n",
      " #   Column              Non-Null Count  Dtype \n",
      "---  ------              --------------  ----- \n",
      " 0   List_of_Cars        884 non-null    object\n",
      " 1   Brands              884 non-null    object\n",
      " 2   year_of_mnf         884 non-null    object\n",
      " 3   Old_Price           884 non-null    object\n",
      " 4   Tillnow_kms_driven  832 non-null    object\n",
      " 5   Fuel_types          829 non-null    object\n",
      "dtypes: object(6)\n",
      "memory usage: 41.6+ KB\n"
     ]
    }
   ],
   "source": [
    "data.info()"
   ]
  },
  {
   "cell_type": "code",
   "execution_count": null,
   "id": "a44c86ec",
   "metadata": {},
   "outputs": [],
   "source": []
  }
 ],
 "metadata": {
  "kernelspec": {
   "display_name": "Python 3 (ipykernel)",
   "language": "python",
   "name": "python3"
  },
  "language_info": {
   "codemirror_mode": {
    "name": "ipython",
    "version": 3
   },
   "file_extension": ".py",
   "mimetype": "text/x-python",
   "name": "python",
   "nbconvert_exporter": "python",
   "pygments_lexer": "ipython3",
   "version": "3.9.12"
  }
 },
 "nbformat": 4,
 "nbformat_minor": 5
}
